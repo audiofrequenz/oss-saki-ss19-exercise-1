{
 "cells": [
  {
   "cell_type": "markdown",
   "metadata": {},
   "source": [
    "# SAKI Exercise 1"
   ]
  },
  {
   "cell_type": "code",
   "execution_count": 9,
   "metadata": {},
   "outputs": [],
   "source": [
    "#Load transaction file from current working dir\n",
    "import pandas as pd\n",
    "df = pd.read_csv('Exercise1-TransactionClassification-DataSet.csv', error_bad_lines=False, delimiter=\";\").copy()"
   ]
  },
  {
   "cell_type": "code",
   "execution_count": 10,
   "metadata": {},
   "outputs": [
    {
     "data": {
      "text/plain": [
       "Unnamed: 0                            0\n",
       "Auftragskonto                        41\n",
       "Buchungstag                           0\n",
       "Valutadatum                           0\n",
       "Buchungstext                          0\n",
       "Verwendungszweck                      0\n",
       "Beguenstigter/Zahlungspflichtiger     0\n",
       "Kontonummer                           1\n",
       "BLZ                                   1\n",
       "Betrag                                0\n",
       "Waehrung                              0\n",
       "label                                 0\n",
       "dtype: int64"
      ]
     },
     "execution_count": 10,
     "metadata": {},
     "output_type": "execute_result"
    }
   ],
   "source": [
    "#check null values\n",
    "df.isnull().sum()"
   ]
  },
  {
   "cell_type": "code",
   "execution_count": 20,
   "metadata": {},
   "outputs": [
    {
     "data": {
      "text/plain": [
       "55    False\n",
       "56    False\n",
       "57    False\n",
       "58    False\n",
       "59    False\n",
       "60    False\n",
       "61    False\n",
       "62    False\n",
       "63    False\n",
       "64    False\n",
       "65    False\n",
       "66    False\n",
       "67    False\n",
       "68    False\n",
       "69    False\n",
       "70    False\n",
       "71    False\n",
       "72    False\n",
       "73    False\n",
       "74    False\n",
       "75    False\n",
       "76    False\n",
       "Name: BLZ, dtype: bool"
      ]
     },
     "execution_count": 20,
     "metadata": {},
     "output_type": "execute_result"
    }
   ],
   "source": [
    "#replace null values inside 'Kontonummer' and 'BLZ' with 0\n",
    "df.Kontonummer.fillna(0, inplace = True)\n",
    "df.BLZ.fillna(0, inplace = True)"
   ]
  },
  {
   "cell_type": "code",
   "execution_count": 21,
   "metadata": {},
   "outputs": [
    {
     "data": {
      "text/plain": [
       "Unnamed: 0                            0\n",
       "Auftragskonto                        41\n",
       "Buchungstag                           0\n",
       "Valutadatum                           0\n",
       "Buchungstext                          0\n",
       "Verwendungszweck                      0\n",
       "Beguenstigter/Zahlungspflichtiger     0\n",
       "Kontonummer                           0\n",
       "BLZ                                   0\n",
       "Betrag                                0\n",
       "Waehrung                              0\n",
       "label                                 0\n",
       "dtype: int64"
      ]
     },
     "execution_count": 21,
     "metadata": {},
     "output_type": "execute_result"
    }
   ],
   "source": [
    "df.isnull().sum()"
   ]
  },
  {
   "cell_type": "code",
   "execution_count": 22,
   "metadata": {},
   "outputs": [
    {
     "data": {
      "text/plain": [
       "'2000.00-670.00-70.00-73.21-363200.00-19.99-28.85-300.00-50.002000.00-670.00200.00-25.99-19.99-73.21-10.00-300.00-28.85-70.00-250.002000.00-670.00200.00-25.99-19.99-73.21-300.002000.00-670.00-28.85-100.00200.00-300.002000.00-670.00-1000.00-10.00200.00-300.002000.00-670.00-28.85-50.00200.00-300.002000.00-4000.001792,73-5000-500-50-440,3-89,99-535-5-20-51,2-12,99-24,3-89,99-3,84-12,99-100-110-3260,04-158,9-100-412,161792,73-50-20-30-535-22,77-24,99-28,85-20-100-33,73-20-22,57-46-82,96-24-40-26,02100-67,8-18-1000-20-51,2-37-9,75-20-52,42-7,54-100-110-32-26,02-15,99-165,7-5,45-412,16-10,422986,24-50-26,3-37,19-7,99-6,73-10-12,97-19,95-24,99-32-140-35,99-10-25-46-52,5-113,4-40161,7-34-40-103,8-7,17-51,2-33-13,7-20,85-20-40,65-17,93-13,87-6,96-34,95-100-110-22,64-412,161792,73-17,94-30-89,95-39,95-24,9550-20-19,95-12,8-24,99-70-50-9,99-40-30-20275,98-20-5-19.99-28.85-50.002000.00-670.00200.00-25.99-19.99-73.21-10.00-300.00-28.85-70.00-250.002000.00-670.00200.00-25.99-19.99-73.21-300.002000.00-670.00-28.85-100.00200.00-300.002000.00-670.00-1000.00-10.00200.00-300.002000.00-670.00-28.85-50.00200.00-300.002000.00-4000.00-51,2'"
      ]
     },
     "execution_count": 22,
     "metadata": {},
     "output_type": "execute_result"
    }
   ],
   "source": [
    "#check if 'Betrag' is set correctly\n",
    "df.Betrag.sum()"
   ]
  },
  {
   "cell_type": "code",
   "execution_count": 24,
   "metadata": {},
   "outputs": [
    {
     "data": {
      "text/plain": [
       "825.8400000000001"
      ]
     },
     "execution_count": 24,
     "metadata": {},
     "output_type": "execute_result"
    }
   ],
   "source": [
    "#convert 'Betrag' to float with '.' as spacer\n",
    "df[df.Betrag.apply(lambda x: x.isnumeric())]\n",
    "df.Betrag = [x.replace(',', '.') for x in df.Betrag]\n",
    "df.Betrag = pd.to_numeric(df.Betrag,errors='ignore')\n",
    "df.Betrag.sum()"
   ]
  },
  {
   "cell_type": "code",
   "execution_count": null,
   "metadata": {},
   "outputs": [],
   "source": []
  }
 ],
 "metadata": {
  "kernelspec": {
   "display_name": "Python 3",
   "language": "python",
   "name": "python3"
  },
  "language_info": {
   "codemirror_mode": {
    "name": "ipython",
    "version": 3
   },
   "file_extension": ".py",
   "mimetype": "text/x-python",
   "name": "python",
   "nbconvert_exporter": "python",
   "pygments_lexer": "ipython3",
   "version": "3.7.3"
  }
 },
 "nbformat": 4,
 "nbformat_minor": 2
}
