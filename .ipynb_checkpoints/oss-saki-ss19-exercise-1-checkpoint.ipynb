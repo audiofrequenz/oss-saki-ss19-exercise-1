{
 "cells": [
  {
   "cell_type": "markdown",
   "metadata": {},
   "source": [
    "# SAKI Exercise 1"
   ]
  },
  {
   "cell_type": "code",
   "execution_count": null,
   "metadata": {},
   "outputs": [],
   "source": [
    "import pandas as pd\n",
    "from sklearn.feature_extraction.text import TfidfTransformer\n",
    "from sklearn.feature_extraction.text import CountVectorizer\n",
    "import nltk\n",
    "from nltk.corpus import stopwords"
   ]
  },
  {
   "cell_type": "code",
   "execution_count": null,
   "metadata": {},
   "outputs": [],
   "source": [
    "#Load transaction file from current working dir\n",
    "df = pd.read_csv('Exercise1-TransactionClassification-DataSet.csv', error_bad_lines=False, delimiter=\";\").copy()"
   ]
  },
  {
   "cell_type": "code",
   "execution_count": null,
   "metadata": {},
   "outputs": [],
   "source": [
    "#check null values\n",
    "df.isnull().sum()"
   ]
  },
  {
   "cell_type": "code",
   "execution_count": null,
   "metadata": {},
   "outputs": [],
   "source": [
    "#replace null values inside 'Kontonummer' and 'BLZ' with 0\n",
    "df.Kontonummer.fillna(0, inplace = True)\n",
    "df.BLZ.fillna(0, inplace = True)"
   ]
  },
  {
   "cell_type": "code",
   "execution_count": null,
   "metadata": {},
   "outputs": [],
   "source": [
    "df.isnull().sum()"
   ]
  },
  {
   "cell_type": "code",
   "execution_count": null,
   "metadata": {},
   "outputs": [],
   "source": [
    "#check if 'Betrag' is set correctly\n",
    "df.Betrag.sum()"
   ]
  },
  {
   "cell_type": "code",
   "execution_count": null,
   "metadata": {},
   "outputs": [],
   "source": [
    "#convert 'Betrag' to float with '.' as spacer\n",
    "df[df.Betrag.apply(lambda x: x.isnumeric())]\n",
    "df.Betrag = [x.replace(',', '.') for x in df.Betrag]\n",
    "df.Betrag = pd.to_numeric(df.Betrag,errors='ignore')\n",
    "df.Betrag.sum()"
   ]
  },
  {
   "cell_type": "code",
   "execution_count": null,
   "metadata": {},
   "outputs": [],
   "source": [
    "count_vect = CountVectorizer()\n",
    "feature_matrix_bow = count_vect.fit_transform(df.Verwendungszweck)\n",
    "# Get feature names\n",
    "feature_names = count_vect.get_feature_names()\n",
    "# View feature names\n",
    "feature_names\n",
    "stop_words = set(stopwords.words('german'))\n",
    "stop_words\n",
    "#filtered_sentence = [w for w in feature_names if not w in stop_words] \n",
    "#filtered_sentence = [] \n",
    "#for w in word_tokens: \n",
    "#    if w not in stop_words: \n",
    "#        filtered_sentence.append(w) \n",
    "\n",
    "#print(word_tokens) \n",
    "#print(filtered_sentence) "
   ]
  },
  {
   "cell_type": "code",
   "execution_count": null,
   "metadata": {},
   "outputs": [],
   "source": [
    "feature_matrix_bow.toarray()"
   ]
  },
  {
   "cell_type": "code",
   "execution_count": null,
   "metadata": {},
   "outputs": [],
   "source": [
    "tfidfTransformer = TfidfTransformer()\n",
    "feature_matrix_tfidf = tfidfTransformer.fit_transform(feature_matrix_bow)\n",
    "feature_matrix_tfidf.toarray()"
   ]
  },
  {
   "cell_type": "code",
   "execution_count": null,
   "metadata": {},
   "outputs": [],
   "source": []
  }
 ],
 "metadata": {
  "kernelspec": {
   "display_name": "Python 3",
   "language": "python",
   "name": "python3"
  },
  "language_info": {
   "codemirror_mode": {
    "name": "ipython",
    "version": 3
   },
   "file_extension": ".py",
   "mimetype": "text/x-python",
   "name": "python",
   "nbconvert_exporter": "python",
   "pygments_lexer": "ipython3",
   "version": "3.7.3"
  }
 },
 "nbformat": 4,
 "nbformat_minor": 2
}
